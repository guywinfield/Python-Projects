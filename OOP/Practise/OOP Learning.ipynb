{
 "cells": [
  {
   "metadata": {},
   "cell_type": "markdown",
   "source": [
    "## Useful tips\n",
    "\n",
    "1) If you want to see content of attribute print(Item.__dict__)\n",
    "2) You can override instance variables using Item instead of self\n",
    "3) Class Method: Class is parsed as the argument instead of self (cls)\n",
    "4) Super allows us to inherit class attritbutes and methods\n",
    "\n",
    "## When to use class methods vs static methods?\n",
    "1) Static: Use when it's not unique per instance.\n",
    "2) Class: For instantiating instances from structured data we own. Has to pass the class object as an argument\n",
    "3) Main difference:"
   ],
   "id": "6d8c69a59028c6e0"
  },
  {
   "metadata": {
    "collapsed": true,
    "ExecuteTime": {
     "end_time": "2025-07-22T13:25:19.893134Z",
     "start_time": "2025-07-22T13:25:19.887833Z"
    }
   },
   "cell_type": "code",
   "source": [
    "import csv\n",
    "\n",
    "class Item:\n",
    "    pay_rate = 0.8 # The pay rate after 20% discount\n",
    "    all = []\n",
    "\n",
    "    def __init__(self, name: str, price: float, quantity: int =0):\n",
    "        # Run validations to the received arguments\n",
    "        assert price >= 0, f\"Price {price} is not greater than or equal to 0\"\n",
    "        assert quantity >= 0, f\"Price {quantity} is not greater than or equal to 0\"\n",
    "\n",
    "        # Assign to self object\n",
    "        self.name = name\n",
    "        self.price = price\n",
    "        self.quantity = quantity\n",
    "\n",
    "        # Actions to execute\n",
    "        Item.all.append(self)\n",
    "\n",
    "    def calculate_total_price(self):\n",
    "        return self.price * self.quantity\n",
    "\n",
    "    def apply_discount(self):\n",
    "        self.price = self.price * self.pay_rate\n",
    "\n",
    "    # Class Method\n",
    "    @classmethod\n",
    "    def instantiate_from_csv(cls):\n",
    "        with open(\"/Users/guywinfield/PycharmProjects/Python-Projects/OOP/Practise/items.csv\", \"r\") as f:\n",
    "            reader = csv.DictReader(f)\n",
    "            items = list(reader)\n",
    "\n",
    "        for item in items:\n",
    "            Item(\n",
    "                name = item.get(\"name\"),\n",
    "                price = float(item.get(\"price\")),\n",
    "                quantity = int(item.get(\"quantity\")),\n",
    "            )\n",
    "\n",
    "    @staticmethod\n",
    "    def is_integer(num):\n",
    "        # We will count out the floats that are point 0\n",
    "        # For i.2: 5.0, 10.0\n",
    "        if isinstance(num, float):\n",
    "            return num.is_integer()\n",
    "        elif isinstance(num, int):\n",
    "            return True\n",
    "        else:\n",
    "            return False\n",
    "\n",
    "    def __repr__(self):\n",
    "        return f\"{self.__class__.__name__}('{self.name}','{self.price}','{self.quantity}')\"\n",
    "\n",
    "\n",
    "class Phone(Item):\n",
    "    def __init__(self, name: str, price: float, quantity: int =0, broken_phones=0):\n",
    "            # Call to super function to have access to all attributes/methods\n",
    "            super().__init__(\n",
    "                name, price, quantity\n",
    "            )\n",
    "\n",
    "            # Run validations to the received arguments\n",
    "            assert broken_phones >= 0, f\"Broken phones {broken_phones} is not greater than or equal to 0\"\n",
    "\n",
    "            # Assign to self object\n",
    "            self.broken_phones = broken_phones\n",
    "\n",
    "\n"
   ],
   "id": "initial_id",
   "outputs": [],
   "execution_count": 65
  },
  {
   "metadata": {
    "ExecuteTime": {
     "end_time": "2025-07-22T13:25:20.810118Z",
     "start_time": "2025-07-22T13:25:20.806299Z"
    }
   },
   "cell_type": "code",
   "source": [
    "phone1 = Phone(\"jscPhonev10\", 500, 5, 1)\n",
    "\n",
    "print(Item.all)\n",
    "print(Phone.all)\n",
    "\n"
   ],
   "id": "8b053df157c9ed4b",
   "outputs": [
    {
     "name": "stdout",
     "output_type": "stream",
     "text": [
      "[Phone('jscPhonev10','500','5')]\n",
      "[Phone('jscPhonev10','500','5')]\n"
     ]
    }
   ],
   "execution_count": 66
  },
  {
   "metadata": {},
   "cell_type": "code",
   "outputs": [],
   "execution_count": null,
   "source": "",
   "id": "fdbd0c2a640ad11b"
  }
 ],
 "metadata": {
  "kernelspec": {
   "display_name": "Python 3",
   "language": "python",
   "name": "python3"
  },
  "language_info": {
   "codemirror_mode": {
    "name": "ipython",
    "version": 2
   },
   "file_extension": ".py",
   "mimetype": "text/x-python",
   "name": "python",
   "nbconvert_exporter": "python",
   "pygments_lexer": "ipython2",
   "version": "2.7.6"
  }
 },
 "nbformat": 4,
 "nbformat_minor": 5
}
