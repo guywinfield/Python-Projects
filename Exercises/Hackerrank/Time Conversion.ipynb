{
 "cells": [
  {
   "cell_type": "code",
   "id": "initial_id",
   "metadata": {
    "collapsed": true,
    "ExecuteTime": {
     "end_time": "2025-08-26T13:44:09.185613Z",
     "start_time": "2025-08-26T13:44:09.181062Z"
    }
   },
   "source": [
    "example_string1 = '06:40:03AM'\n",
    "example_string2 = '12:05:39AM'\n",
    "example_string3 = '12:45:54PM'\n",
    "\n"
   ],
   "outputs": [],
   "execution_count": 96
  },
  {
   "metadata": {
    "ExecuteTime": {
     "end_time": "2025-08-26T13:45:55.266374Z",
     "start_time": "2025-08-26T13:45:55.261162Z"
    }
   },
   "cell_type": "code",
   "source": [
    "import re\n",
    "\n",
    "def timeConversion(s):\n",
    "    hour, minute, second = [int(x) for x in re.findall(\"[0-9]+\", s)]\n",
    "\n",
    "    if hour <= 12:\n",
    "        if 'pm' in s.lower() and hour == 12:\n",
    "            hour = int(hour)\n",
    "            return f\"{hour:02}:{minute:02}:{second:02}\"\n",
    "        elif 'pm' in s.lower() :\n",
    "            hour = int(hour) + 12\n",
    "            return f\"{hour:02}:{minute:02}:{second:02}\"\n",
    "        elif 'am' in s.lower() and hour == 12 :\n",
    "            hour = int(hour) - 12\n",
    "            return f\"{hour:02}:{minute:02}:{second:02}\"\n",
    "        else:\n",
    "            return f\"{hour:02}:{minute:02}:{second:02}\"\n",
    "    else:\n",
    "        return \"Invalid Time\"\n"
   ],
   "id": "7aca9efeaa423522",
   "outputs": [],
   "execution_count": 103
  },
  {
   "metadata": {
    "ExecuteTime": {
     "end_time": "2025-08-26T13:45:55.456041Z",
     "start_time": "2025-08-26T13:45:55.451218Z"
    }
   },
   "cell_type": "code",
   "source": "timeConversion(example_string3)",
   "id": "8a93f7a1db0d1320",
   "outputs": [
    {
     "data": {
      "text/plain": [
       "'12:45:54'"
      ]
     },
     "execution_count": 104,
     "metadata": {},
     "output_type": "execute_result"
    }
   ],
   "execution_count": 104
  }
 ],
 "metadata": {
  "kernelspec": {
   "display_name": "Python 3",
   "language": "python",
   "name": "python3"
  },
  "language_info": {
   "codemirror_mode": {
    "name": "ipython",
    "version": 2
   },
   "file_extension": ".py",
   "mimetype": "text/x-python",
   "name": "python",
   "nbconvert_exporter": "python",
   "pygments_lexer": "ipython2",
   "version": "2.7.6"
  }
 },
 "nbformat": 4,
 "nbformat_minor": 5
}
